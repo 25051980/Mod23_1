{
 "cells": [
  {
   "cell_type": "markdown",
   "id": "c9f52f15-8731-4cd0-9d27-23455cd5aded",
   "metadata": {},
   "source": [
    "# Explique com suas palavras o Bagging"
   ]
  },
  {
   "cell_type": "markdown",
   "id": "6abb0ced-76ab-4b3c-a878-f3088de15a8b",
   "metadata": {},
   "source": [
    " ## Bagging (Bootstrap Aggregation)\n",
    "\n",
    "Bagging, ou agregação bootstrap, é uma técnica de aprendizado de máquina que melhora a precisão e a estabilidade de modelos com alta variância, especialmente em modelos como árvores de decisão. O processo de Bagging inicia com a **preparação dos dados**, onde o conjunto de dados é dividido em variáveis de entrada (X) e uma variável alvo (y). Em seguida, são criadas **várias amostras aleatórias** a partir do conjunto original, utilizando uma técnica de amostragem com reposição, o que significa que um mesmo exemplo pode aparecer várias vezes na mesma amostra.\n",
    "\n",
    "Cada uma dessas amostras é usada para **treinar um modelo base independente** (geralmente uma árvore de decisão, embora outros modelos possam ser usados). Assim, cada modelo realiza suas próprias previsões de forma independente quando novos dados são apresentados. Para problemas de **classificação**, as previsões dos modelos são combinadas por meio de uma **votação da maioria**, enquanto para problemas de **regressão**, é utilizada a **média das previsões**.\n",
    "\n",
    "O Bagging ajuda a reduzir a variância e suavizar as previsões, tornando o modelo final mais robusto e menos suscetível ao overfitting. Uma implementação comum de Bagging é a **Random Forest**, que consiste em múltiplas árvores de decisão treinadas em diferentes amostras de um conjunto de dados. Em Python, o Bagging pode ser implementado facilmente usando as classes `RandomForestClassifier` ou `BaggingClassifier` da biblioteca `sklearn`.\n"
   ]
  },
  {
   "cell_type": "markdown",
   "id": "597bdd92-c12c-48d4-9d8f-2d1f8e0ab60f",
   "metadata": {},
   "source": [
    "# Passo a Passo para o Bagging\n",
    "\n",
    "### 1. Preparação dos Dados\n",
    "   - **Objetivo**: Definir as variáveis de entrada e a variável alvo.\n",
    "   - **Ações**:\n",
    "     - Começar com o conjunto de dados completo.\n",
    "     - Dividir os dados em variáveis de entrada (X) e a variável alvo (y) que deseja prever.\n",
    "\n",
    "### 2. Divisão do Conjunto de Dados\n",
    "   - **Objetivo**: Dividir o conjunto de dados em dados de treinamento e teste.\n",
    "   - **Ações**:\n",
    "     - Utilizar uma técnica como a `train_test_split` do `sklearn` para dividir os dados, garantindo que uma parte seja reservada para avaliar o modelo final.\n",
    "\n",
    "### 3. Gerar Amostras para Treinamento (Bootstrapping)\n",
    "   - **Objetivo**: Criar várias amostras do conjunto de dados original.\n",
    "   - **Ações**:\n",
    "     - Para criar cada amostra, realizamos uma \"amostragem com reposição\" na qual alguns exemplos podem aparecer várias vezes.\n",
    "     - Escolhemos o número de amostras, que é determinado pelo parâmetro `n_estimators`. Por exemplo, `n_estimators=10` indica que serão criadas 10 amostras.\n",
    "\n",
    "### 4. Treinamento de Modelos Base\n",
    "   - **Objetivo**: Treinar um modelo para cada amostra.\n",
    "   - **Ações**:\n",
    "     - Para cada amostra gerada, treine um modelo base independente. O modelo base mais comum é uma árvore de decisão, pois é sensível a melhorias com o Bagging, mas outros modelos podem ser usados.\n",
    "     - Ajuste cada modelo com a sua amostra correspondente.\n",
    "\n",
    "### 5. Fazer Previsões\n",
    "   - **Objetivo**: Obtemos previsões de cada modelo treinado.\n",
    "   - **Ações**:\n",
    "     - Para cada novo dado (dados de teste ou novos dados de entrada), fazemos com que cada modelo treinado faça uma previsão independente.\n",
    "\n",
    "### 6. Combinar as Previsões\n",
    "   - **Objetivo**: Obter uma previsão final para cada dado.\n",
    "   - **Ações**:\n",
    "     - Para problemas de classificação, usamos a votação da maioria: a classe mais comum entre as previsões dos modelos é a resposta final.\n",
    "     - Para problemas de regressão, usamos a média das previsões dos modelos para obter a previsão final.\n",
    "\n",
    "### 7. Avaliação do Modelo Bagging\n",
    "   - **Objetivo**: Verificamos o desempenho do modelo Bagging.\n",
    "   - **Ações**:\n",
    "     - Avaliamos o modelo usando métricas apropriadas, como acurácia, precisão, ou erro médio absoluto, dependendo do tipo de problema (classificação ou regressão).\n",
    "     - Compare o desempenho do modelo Bagging com um modelo único para ver se houve melhoria.\n",
    "\n",
    "### Exemplo de Bagging com `RandomForest` (Automatizado)\n",
    "   - A `RandomForest`, que usa árvores de decisão como modelo base, é uma implementação comum de Bagging. Em Python, podemos implementar Bagging de forma simples usando `RandomForestClassifier` para classificação ou `RandomForestRegressor` para regressão, ambos disponíveis na biblioteca `sklearn`.\n"
   ]
  },
  {
   "cell_type": "code",
   "execution_count": 2,
   "id": "96c9991f-0ada-4939-989b-580e84199a9e",
   "metadata": {},
   "outputs": [],
   "source": [
    "import pandas as pd\n",
    "import numpy as np\n",
    "from sklearn.ensemble import BaggingRegressor\n",
    "from sklearn.tree import DecisionTreeRegressor\n",
    "from sklearn.model_selection import train_test_split\n",
    "from sklearn.metrics import mean_squared_error\n",
    "import yfinance as yf"
   ]
  },
  {
   "cell_type": "markdown",
   "id": "247a7305-3453-4ac4-a74f-b494a4720dc3",
   "metadata": {},
   "source": [
    "### Importação das Bibliotecas\n",
    "\n",
    "No início do projeto, importamos várias bibliotecas essenciais para a análise e construção do modelo de Bagging:\n",
    "\n",
    "- **pandas**: Usado para manipulação e análise de dados. O `pandas` é uma biblioteca poderosa para trabalhar com tabelas e séries temporais, permitindo a leitura, limpeza, e estruturação dos dados financeiros.\n",
    "- **numpy**: Biblioteca fundamental para cálculos numéricos em Python. O `numpy` facilita operações matemáticas e manipulação de arrays, que são úteis para manipulações mais complexas nos dados.\n",
    "- **sklearn.ensemble.BaggingRegressor**: O `BaggingRegressor` é uma implementação de Bagging, que permite construir modelos de aprendizado de máquina mais robustos combinando previsões de múltiplos estimadores. Escolhemos essa função para criar um modelo mais robusto usando várias árvores de decisão.\n",
    "- **sklearn.tree.DecisionTreeRegressor**: Utilizado como estimador base dentro do `BaggingRegressor`. Árvores de decisão são comumente usadas no Bagging porque são modelos instáveis que se beneficiam da agregação, melhorando sua precisão.\n",
    "- **sklearn.model_selection.train_test_split**: Essa função divide os dados em conjuntos de treino e teste, permitindo avaliar o desempenho do modelo em dados não vistos.\n",
    "- **sklearn.metrics.mean_squared_error**: Essa métrica é usada para avaliar o desempenho do modelo de regressão. Calcula o erro quadrático médio entre as previsões do modelo e os valores reais, indicando o quão próximo o modelo está dos dados reais.\n",
    "- **yfinance**: Biblioteca para download de dados financeiros de ativos diretamente do Yahoo Finance. É útil para coletar dados de mercado de ações, permitindo realizar análises e prever tendências.\n",
    "\n",
    "Essas bibliotecas foram escolhidas para fornecer uma base sólida na manipulação de dados, modelagem e avaliação, facilitando a implementação e análise do modelo de Bagging aplicado aos dados financeiros.\n"
   ]
  },
  {
   "cell_type": "code",
   "execution_count": 3,
   "id": "66f50d21-1820-462e-a992-0378e77f4419",
   "metadata": {},
   "outputs": [
    {
     "name": "stderr",
     "output_type": "stream",
     "text": [
      "[*********************100%***********************]  3 of 3 completed\n"
     ]
    },
    {
     "name": "stdout",
     "output_type": "stream",
     "text": [
      "Dados salvos em ativos_yahoo_finance.csv\n",
      "Mean Squared Error (MSE) no conjunto de teste: 27.96055887963235\n",
      "                                 Real    Previsão\n",
      "Date                                             \n",
      "2022-09-01 00:00:00+00:00  153.933212  159.224198\n",
      "2022-09-02 00:00:00+00:00  152.668625  158.012483\n",
      "2022-09-06 00:00:00+00:00  154.081390  156.456094\n",
      "2022-09-07 00:00:00+00:00  152.599487  156.262018\n",
      "2022-09-08 00:00:00+00:00  155.474411  156.876643\n",
      "2022-09-09 00:00:00+00:00  161.461426  150.964577\n",
      "2022-09-12 00:00:00+00:00  151.986954  159.130143\n",
      "2022-09-13 00:00:00+00:00  153.439224  158.798142\n",
      "2022-09-14 00:00:00+00:00  150.534637  149.857278\n",
      "2022-09-15 00:00:00+00:00  148.884766  155.911628\n"
     ]
    }
   ],
   "source": [
    "# Defina os tickers dos ativos e o período de 2 anos\n",
    "tickers = ['AAPL', 'MSFT', 'GOOGL']\n",
    "start_date = \"2021-01-01\"\n",
    "end_date = \"2023-01-01\"\n",
    "\n",
    "# Baixe os dados\n",
    "data = yf.download(tickers, start=start_date, end=end_date, group_by='ticker')\n",
    "\n",
    "# Salve os dados em um arquivo CSV\n",
    "data.to_csv(\"ativos_yahoo_finance.csv\")\n",
    "print(\"Dados salvos em ativos_yahoo_finance.csv\")\n",
    "\n",
    "# Escolha um ativo para o modelo de previsão (exemplo: AAPL)\n",
    "ticker = 'AAPL'\n",
    "\n",
    "# Prepara os dados para o modelo - vamos usar o preço de fechamento ajustado\n",
    "data_ticker = data[(ticker, 'Adj Close')].dropna()\n",
    "data_ticker = data_ticker.to_frame(name='Adj Close')\n",
    "\n",
    "# Crie uma coluna com o valor de fechamento do próximo dia para previsão\n",
    "data_ticker['Target'] = data_ticker['Adj Close'].shift(-1)\n",
    "\n",
    "# Remove valores nulos (última linha terá NaN no target)\n",
    "data_ticker = data_ticker.dropna()\n",
    "\n",
    "# Defina a janela para as variáveis de entrada\n",
    "window_size = 90\n",
    "for i in range(1, window_size + 1):\n",
    "    data_ticker[f'Lag_{i}'] = data_ticker['Adj Close'].shift(i)\n",
    "\n",
    "# Remova os valores nulos resultantes da lag\n",
    "data_ticker = data_ticker.dropna()\n",
    "\n",
    "# Divida os dados em variáveis de entrada (X) e variável alvo (y)\n",
    "X = data_ticker.drop(columns=['Adj Close', 'Target'])\n",
    "y = data_ticker['Target']\n",
    "\n",
    "# Divida em conjunto de treino e teste\n",
    "X_train, X_test, y_train, y_test = train_test_split(X, y, test_size=0.2, shuffle=False)\n",
    "\n",
    "# Crie o modelo Bagging com árvore de decisão como base\n",
    "bagging_model = BaggingRegressor(\n",
    "    base_estimator=DecisionTreeRegressor(),\n",
    "    n_estimators=100,  # Número de amostras para o Bagging\n",
    "    random_state=42\n",
    ")\n",
    "\n",
    "# Treine o modelo\n",
    "bagging_model.fit(X_train, y_train)\n",
    "\n",
    "# Faça previsões no conjunto de teste\n",
    "y_pred = bagging_model.predict(X_test)\n",
    "\n",
    "# Avalie o modelo usando Mean Squared Error\n",
    "mse = mean_squared_error(y_test, y_pred)\n",
    "print(f\"Mean Squared Error (MSE) no conjunto de teste: {mse}\")\n",
    "\n",
    "# Exibir algumas previsões em comparação com o valor real\n",
    "predicoes_df = pd.DataFrame({'Real': y_test, 'Previsão': y_pred})\n",
    "print(predicoes_df.head(10))\n"
   ]
  },
  {
   "cell_type": "markdown",
   "id": "352b04d4-304e-423d-b206-d40499d39918",
   "metadata": {},
   "source": [
    "# Explicação do Código\n",
    "\n",
    "Neste código, realizei uma série de etapas para aplicar o método de Bagging em um modelo de previsão de preços de ações:\n",
    "\n",
    "1. **Download e Salvamento dos Dados**: Começei por definir os tickers e o período de dois anos para os ativos selecionados (AAPL, MSFT, GOOGL) e baixei os dados de preços históricos usando a biblioteca `yfinance`. Esses dados são salvos em um arquivo CSV para facilitar o acesso futuro.\n",
    "\n",
    "2. **Preparação dos Dados**: Escolhi um ativo específico, neste caso, `AAPL`, e usei o preço de fechamento ajustado como a base para a previsão. Criei uma nova coluna `Target` contendo o preço de fechamento do próximo dia, que será nosso alvo de previsão.\n",
    "\n",
    "3. **Criação de Lags**: Defini uma janela de 90 dias para capturar uma série temporal dos preços de fechamento anteriores. Para cada dia, criamos 90 variáveis de lag (`Lag_1`, `Lag_2`, ... `Lag_90`), que representam os preços de fechamento dos últimos 90 dias.\n",
    "\n",
    "4. **Divisão de Dados**: Separando os dados em variáveis de entrada (`X`, que inclui as lags) e variável alvo (`y`, que é o preço do dia seguinte), dividi o conjunto de dados em conjuntos de treino e teste, mantendo a ordem temporal (sem `shuffle`).\n",
    "\n",
    "5. **Construção do Modelo de Bagging**: Utilizei `BaggingRegressor` com `DecisionTreeRegressor` como o estimador base. Configuramos o `n_estimators` para 100, o que significa que o modelo treinará 100 árvores de decisão em diferentes amostras de dados, agregando os resultados para reduzir a variância.\n",
    "\n",
    "6. **Treinamento e Previsão**: Treinei o modelo no conjunto de treino e fiz previsões no conjunto de teste.\n",
    "\n",
    "7. **Avaliação**: Avaliei o desempenho do modelo usando o Mean Squared Error (MSE) para verificar a precisão das previsões. Por fim, exibi algumas previsões em comparação com os valores reais para entender o comportamento do modelo.\n",
    "\n",
    "Essas etapas demonstram como implementar um modelo de Bagging para prever os preços de fechamento de ações, aumentando a robustez do modelo com base em múltiplas árvores de decisão.\n"
   ]
  },
  {
   "cell_type": "markdown",
   "id": "9ff06627-ac29-4945-a562-e3da2553202a",
   "metadata": {},
   "source": [
    "# Análise dos Resultados\n",
    "\n",
    "Os dados foram salvos no arquivo `ativos_yahoo_finance.csv` para facilitar o acesso posterior. O modelo de Bagging com árvore de decisão foi avaliado utilizando o Mean Squared Error (MSE) no conjunto de teste, resultando em um MSE de aproximadamente 27.96. Esse valor indica o erro médio quadrático entre as previsões do modelo e os valores reais, refletindo a precisão das previsões.\n",
    "\n",
    "A tabela abaixo mostra uma amostra dos valores reais e das previsões do modelo para o preço de fechamento ajustado da ação `AAPL` nos primeiros dias do conjunto de teste. Observamos que, embora as previsões estejam próximas dos valores reais, há uma certa diferença em alguns dias, o que é esperado em modelos financeiros devido à alta volatilidade. O modelo captura tendências gerais, mas ainda apresenta variações que podem ser refinadas com ajustes no modelo ou nos dados. A comparação entre os valores reais e previstos permite identificar o desempenho do modelo ao longo do tempo.\n"
   ]
  },
  {
   "cell_type": "code",
   "execution_count": null,
   "id": "0c09b20c-60d5-478a-8e12-7df1836aa179",
   "metadata": {},
   "outputs": [],
   "source": []
  }
 ],
 "metadata": {
  "kernelspec": {
   "display_name": "Python 3 (ipykernel)",
   "language": "python",
   "name": "python3"
  },
  "language_info": {
   "codemirror_mode": {
    "name": "ipython",
    "version": 3
   },
   "file_extension": ".py",
   "mimetype": "text/x-python",
   "name": "python",
   "nbconvert_exporter": "python",
   "pygments_lexer": "ipython3",
   "version": "3.11.7"
  }
 },
 "nbformat": 4,
 "nbformat_minor": 5
}
